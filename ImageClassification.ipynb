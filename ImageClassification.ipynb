{
 "cells": [
  {
   "cell_type": "code",
   "execution_count": 40,
   "id": "25d838b9-4612-4123-bcbe-468bf6fd0ae4",
   "metadata": {},
   "outputs": [
    {
     "name": "stdout",
     "output_type": "stream",
     "text": [
      "Loaded 50 apple images\n",
      "Loaded 49 orange images\n"
     ]
    }
   ],
   "source": [
    "import os\n",
    "import cv2\n",
    "import numpy as np\n",
    "base_dir = \"D:/6610210437/03-10/dataset\"\n",
    "def load_images_from_folder(folder):\n",
    "    images = []\n",
    "    for filename in os. listdir(folder) :\n",
    "        img = cv2. imread(os.path.join(folder, filename))\n",
    "        if img is not None:\n",
    "            images.append(img)\n",
    "    return images\n",
    "base_dir = \"D:/6610210437/03-10/dataset\"\n",
    "apple_images = load_images_from_folder(os.path.join(base_dir, \"apple\"))\n",
    "orange_images = load_images_from_folder(os.path.join(base_dir, \"orange\"))\n",
    "\n",
    "print (f\"Loaded {len(apple_images) } apple images\")\n",
    "print (f\"Loaded {len(orange_images) } orange images\")\n"
   ]
  },
  {
   "cell_type": "code",
   "execution_count": 41,
   "id": "cfca4c24-e138-4312-8673-f8bbeb3bac0c",
   "metadata": {},
   "outputs": [],
   "source": [
    "#3. ปรับ ขนาด รูปภาพ ให้ เท่า กัน\n",
    "# You might want to resize or preprocess these images later\n",
    "# Example: resize to a common size (e.g., 100r100)\n",
    "resized_apple_images = [cv2.resize(img, (100, 100)) for img in apple_images]\n",
    "resized_orange_images = [cv2.resize(img, (100, 100)) for img in orange_images]"
   ]
  },
  {
   "cell_type": "code",
   "execution_count": 42,
   "id": "add4dba4-1343-44c1-8cdd-3944929bbcbd",
   "metadata": {},
   "outputs": [
    {
     "name": "stdout",
     "output_type": "stream",
     "text": [
      "Flattened apple features shape (first image): (30000,)\n",
      "Flattened orange featuree shape (first image): (30000,)\n"
     ]
    }
   ],
   "source": [
    "#4. แปลง รูปภาพ เป็น feature vector\n",
    "# Flatten the resized images into feature vectora\n",
    "apple_features = [img.flatten() for img in resized_apple_images]\n",
    "orange_features = [img.flatten() for img in resized_orange_images]\n",
    "print(f\"Flattened apple features shape (first image): {apple_features[0].\n",
    "shape}\")\n",
    "print(f\"Flattened orange featuree shape (first image): {orange_features[0].\n",
    "shape}\")"
   ]
  },
  {
   "cell_type": "code",
   "execution_count": 43,
   "id": "18f0b991-2670-4259-b1ec-1dd9a28eee92",
   "metadata": {},
   "outputs": [
    {
     "name": "stdout",
     "output_type": "stream",
     "text": [
      "Training features shape: (79, 30000)\n",
      "Testing features shape: (20, 30000)\n",
      "Training labels shape: (79,)\n",
      "Testing labels shape: (20,)\n"
     ]
    }
   ],
   "source": [
    "#5. สร้าง โมเดล\n",
    "from sklearn.model_selection import train_test_split\n",
    "\n",
    "# Create labela: 0 for apple, 1 for orange\n",
    "apple_labels = [0] * len(apple_features)\n",
    "orange_labels = [1] * len(orange_features)\n",
    "\n",
    "# Combine features and labels\n",
    "all_features = apple_features + orange_features\n",
    "all_labels = apple_labels + orange_labels\n",
    "\n",
    "# Convert to numpy arrays\n",
    "X = np.array(all_features)\n",
    "y = np.array(all_labels)\n",
    "\n",
    "#Split data into training and testing sets\n",
    "X_train, X_test, y_train, y_test = train_test_split(X, y, test_size=0.2, random_state=42)\n",
    "print(f\"Training features shape: {X_train.shape}\")\n",
    "print(f\"Testing features shape: {X_test.shape}\")\n",
    "print(f\"Training labels shape: {y_train.shape}\")\n",
    "print(f\"Testing labels shape: {y_test.shape}\")\n"
   ]
  },
  {
   "cell_type": "code",
   "execution_count": 44,
   "id": "db0877de-dc3f-426b-a5a9-feb0795306d1",
   "metadata": {},
   "outputs": [
    {
     "name": "stdout",
     "output_type": "stream",
     "text": [
      "Accuracy: 0.90\n",
      "\n",
      "Classification Report:\n",
      "              precision    recall  f1-score   support\n",
      "\n",
      "           0       0.92      0.92      0.92        12\n",
      "           1       0.88      0.88      0.88         8\n",
      "\n",
      "    accuracy                           0.90        20\n",
      "   macro avg       0.90      0.90      0.90        20\n",
      "weighted avg       0.90      0.90      0.90        20\n",
      "\n"
     ]
    }
   ],
   "source": [
    "#6.ประเมินประสิทธิภาพ\n",
    "from sklearn import svm\n",
    "from sklearn.metrics import accuracy_score, classification_report\n",
    "\n",
    "# Initialize and train the SVM classifier\n",
    "svm_model = svm.SVC(kernel='linear')\n",
    "svm_model.fit(X_train, y_train)\n",
    "\n",
    "# Predict on the test set\n",
    "y_pred = svm_model.predict(X_test)\n",
    "\n",
    "# Evaluate the model\n",
    "accuracy = accuracy_score(y_test, y_pred)\n",
    "print(f\"Accuracy: {accuracy:.2f}\")\n",
    "print(\"\\nClassification Report:\")\n",
    "print(classification_report(y_test, y_pred))\n"
   ]
  },
  {
   "cell_type": "code",
   "execution_count": 45,
   "id": "f5032e92-4c5f-4a57-980b-186b953bd654",
   "metadata": {},
   "outputs": [
    {
     "name": "stdout",
     "output_type": "stream",
     "text": [
      "Model save to svm_image_classifier_model.pkl\n"
     ]
    }
   ],
   "source": [
    "#7.บันทึกโมเดล\n",
    "import joblib\n",
    "#Save the trained model to a file\n",
    "filename = 'svm_image_classifier_model.pkl'\n",
    "joblib.dump(svm_model, filename)\n",
    "\n",
    "print(f\"Model save to {filename}\")"
   ]
  },
  {
   "cell_type": "code",
   "execution_count": 46,
   "id": "59fdee0f-b8e4-4ced-8a1f-7f90f3d11354",
   "metadata": {},
   "outputs": [
    {
     "name": "stdout",
     "output_type": "stream",
     "text": [
      "Overwriting app.py\n"
     ]
    }
   ],
   "source": [
    "%%writefile app.py\n",
    "import streamlit as st\n",
    "import joblib\n",
    "import cv2  # ✅ สำคัญ! ต้อง import\n",
    "from PIL import Image\n",
    "import numpy as np\n",
    "\n",
    "# --- Load the trained model ---\n",
    "with open(\"svm_image_classifier_model.pkl\", \"rb\") as f:\n",
    "    model = joblib.load(f)\n",
    "\n",
    "# --- Streamlit UI ---\n",
    "st.title(\"Fruit Classifier\")\n",
    "st.write(\"Upload an image of an **apple** or **orange**, and the model will predict it.\")\n",
    "\n",
    "# --- File uploader ---\n",
    "uploaded_file = st.file_uploader(\"Choose an image...\", type=[\"jpg\", \"png\", \"jpeg\"])\n",
    "\n",
    "# --- Define class labels ---\n",
    "class_dict = {0: \"Apple\", 1: \"Orange\"}\n",
    "\n",
    "if uploaded_file is not None:\n",
    "    # Display image\n",
    "    image = Image.open(uploaded_file).convert(\"RGB\")\n",
    "    st.image(image, caption='Uploaded Image', use_container_width=True)\n",
    "\n",
    "    if st.button(\"Predict\"):\n",
    "        # ✅ Resize image to 100x100 (เหมือนตอนฝึกโมเดล)\n",
    "        image = image.resize((100, 100))\n",
    "\n",
    "        # ✅ Convert to numpy array\n",
    "        image_array = np.array(image)\n",
    "\n",
    "        # ✅ Convert RGB to BGR (ตามลำดับสีของ OpenCV)\n",
    "        image_array = cv2.cvtColor(image_array, cv2.COLOR_RGB2BGR)\n",
    "\n",
    "        # ✅ Flatten และ reshape เป็น input ที่โมเดลต้องการ\n",
    "        image_array = image_array.flatten().reshape(1, -1)\n",
    "\n",
    "        # ✅ Predict\n",
    "        prediction = model.predict(image_array)[0]\n",
    "        prediction_name = class_dict[prediction]\n",
    "\n",
    "        # ✅ Show result\n",
    "        st.markdown(f\"### Prediction: **{prediction_name}**\")\n"
   ]
  },
  {
   "cell_type": "code",
   "execution_count": null,
   "id": "e8f0feb2-a18d-4ddc-a61f-3de34145c88d",
   "metadata": {},
   "outputs": [],
   "source": []
  },
  {
   "cell_type": "code",
   "execution_count": null,
   "id": "5f710731-10ae-46d2-be5c-e5f561bd476b",
   "metadata": {},
   "outputs": [],
   "source": []
  }
 ],
 "metadata": {
  "kernelspec": {
   "display_name": "Python (362-env)",
   "language": "python",
   "name": "362-env"
  },
  "language_info": {
   "codemirror_mode": {
    "name": "ipython",
    "version": 3
   },
   "file_extension": ".py",
   "mimetype": "text/x-python",
   "name": "python",
   "nbconvert_exporter": "python",
   "pygments_lexer": "ipython3",
   "version": "3.13.7"
  }
 },
 "nbformat": 4,
 "nbformat_minor": 5
}
